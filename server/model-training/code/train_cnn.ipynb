{
 "cells": [
  {
   "source": [
    "## Description: Training and testing of a cnn based on the landmark data extracted from MediaPipe.\n",
    "## Author: David Gray"
   ],
   "cell_type": "markdown",
   "metadata": {}
  },
  {
   "cell_type": "code",
   "execution_count": null,
   "metadata": {},
   "outputs": [],
   "source": [
    "import tensorflow as tf\n",
    "from tensorflow.keras import layers, models\n",
    "import matplotlib.pyplot as plt\n",
    "import pandas as pd\n",
    "import numpy as np\n",
    "from sklearn.metrics import classification_report, confusion_matrix\n",
    "from sklearn.model_selection import train_test_split\n",
    "\n",
    "print(\"TensorFlow version: {}\".format(tf.__version__))\n",
    "print(\"Eager execution: {}\".format(tf.executing_eagerly()))"
   ]
  },
  {
   "cell_type": "code",
   "execution_count": null,
   "metadata": {},
   "outputs": [],
   "source": [
    "class_names = [\"A\",\"B\",\"C\",\"D\",\"E\",\"F\",\"G\",\"H\",\"I\",\"J\",\"K\",\"L\",\"O\",\"P\",\"Q\",\"R\",\"T\",\"V\",\"W\",\"Y\"]\n",
    "# class_names = [\"A\",\"B\",\"C\",\"D\",\"E\",\"F\",\"H\",\"I\",\"K\",\"L\",\"O\",\"P\",\"Q\",\"W\"]\n",
    "model_fp = \"..\\\\models\\\\landmark_cnn_v2.h5\"\n",
    "# model_fp = \"..\\\\models\\\\landmark_cnn_v4_best_letters.h5\"\n",
    "data_fp = \"..\\\\parsed_dataset.csv\"\n",
    "train_fp = \"..\\\\train.csv\"\n",
    "test_fp = \"..\\\\test.csv\""
   ]
  },
  {
   "cell_type": "code",
   "execution_count": null,
   "metadata": {},
   "outputs": [],
   "source": [
    "def createModel(num_classes):\n",
    "    model = tf.keras.Sequential([\n",
    "        layers.Conv2D(32, (3,3), activation='relu', padding='same', input_shape=(5,5,3,)),\n",
    "        layers.MaxPooling2D((2,2), padding='same'),\n",
    "        layers.Conv2D(32, (3,3), activation='relu', padding='same'),\n",
    "        layers.MaxPooling2D((2,2), padding='same'),\n",
    "        layers.Conv2D(32, (3,3), activation='relu', padding='same'),\n",
    "        layers.MaxPooling2D((2,2), padding='same'),\n",
    "        layers.Flatten(),\n",
    "        layers.Dense(64, activation='relu'),\n",
    "        layers.Dense(num_classes, activation='softmax')])\n",
    "    model.compile(\n",
    "        optimizer='adam',\n",
    "        loss=tf.losses.SparseCategoricalCrossentropy(from_logits=True),\n",
    "        metrics=['accuracy'])\n",
    "    return model"
   ]
  },
  {
   "cell_type": "code",
   "execution_count": null,
   "metadata": {},
   "outputs": [],
   "source": [
    "def createDataset(fp):\n",
    "    df = pd.read_csv(fp)\n",
    "    lm_dataset = []\n",
    "    label_dataset = []\n",
    "    for i in range(len(df)):\n",
    "        label = df.iloc[i,0]\n",
    "        lm_list = []\n",
    "        lm_group=[]\n",
    "        for j in range(1,17):\n",
    "            landmark = [df.iloc[i,j], df.iloc[i,j+21], df.iloc[i,j+42]]\n",
    "            lm_group.append(landmark)\n",
    "            if (j)%4==0:\n",
    "                lm_list.append(lm_group)\n",
    "                lm_group=[]\n",
    "        for j in range(17,22):\n",
    "            landmark = [df.iloc[i,j], df.iloc[i,j+21], df.iloc[i,j+42]]\n",
    "            lm_group.append(landmark)\n",
    "        lm_list.append(lm_group)\n",
    "        lm_dataset.append(lm_list)\n",
    "        label_dataset.append(label)\n",
    "    features = tf.ragged.constant(lm_dataset)\n",
    "    labels = tf.constant(label_dataset)\n",
    "    dataset = tf.data.Dataset.from_tensor_slices((features.to_tensor(), labels))\n",
    "    dataset = dataset.batch(batch_size=32)\n",
    "    print(\"features:\",features.shape)\n",
    "    print(\"labels:\",labels.shape)\n",
    "    print(\"dataset:\",dataset)\n",
    "    return dataset"
   ]
  },
  {
   "cell_type": "code",
   "execution_count": null,
   "metadata": {},
   "outputs": [],
   "source": [
    "def createSample(df):\n",
    "    lm_dataset = []\n",
    "    lm_list = []\n",
    "    lm_group=[]\n",
    "    for j in range(0,16):\n",
    "        landmark = [df.iloc[j], df.iloc[j+21], df.iloc[j+42]]\n",
    "        lm_group.append(landmark)\n",
    "        if (j+1)%4==0:\n",
    "            lm_list.append(lm_group)\n",
    "            lm_group=[]\n",
    "    for j in range(16,21):\n",
    "        landmark = [df.iloc[j], df.iloc[j+21], df.iloc[j+42]]\n",
    "        lm_group.append(landmark)\n",
    "    lm_list.append(lm_group)\n",
    "    lm_dataset.append(lm_list)\n",
    "    features = tf.ragged.constant(lm_dataset)\n",
    "    sample = features.to_tensor()\n",
    "    return sample"
   ]
  },
  {
   "cell_type": "code",
   "execution_count": null,
   "metadata": {},
   "outputs": [],
   "source": [
    "ds = pd.read_csv(data_fp)\n",
    "train, test = train_test_split(ds, random_state=1, test_size=0.2)\n",
    "print(len(train))\n",
    "print(len(test))\n",
    "train.to_csv(train_fp, index=False)\n",
    "test.to_csv(test_fp, index=False)"
   ]
  },
  {
   "cell_type": "code",
   "execution_count": null,
   "metadata": {
    "tags": []
   },
   "outputs": [],
   "source": [
    "train_ds = createDataset(train_fp)\n",
    "test_ds = createDataset(test_fp)"
   ]
  },
  {
   "cell_type": "code",
   "execution_count": null,
   "metadata": {
    "tags": [
     "outputPrepend"
    ]
   },
   "outputs": [],
   "source": [
    "model = createModel(len(class_names))\n",
    "history = model.fit(train_ds, epochs=200, validation_data=test_ds)\n",
    "model.summary()\n",
    "history"
   ]
  },
  {
   "cell_type": "code",
   "execution_count": null,
   "metadata": {},
   "outputs": [],
   "source": [
    "plt.figure(figsize=(10,10))\n",
    "plt.title('Accuracy')\n",
    "plt.plot(history.history['accuracy'], label='accuracy')\n",
    "plt.plot(history.history['val_accuracy'], label = 'val_accuracy')\n",
    "plt.xlabel('Epoch')\n",
    "plt.ylabel('Accuracy')\n",
    "plt.ylim([0, 1])\n",
    "plt.legend(loc='lower right')\n",
    "plt.show()\n",
    "test_loss, test_acc = model.evaluate(test_ds, verbose=2)\n",
    "print(test_acc*100)"
   ]
  },
  {
   "cell_type": "code",
   "execution_count": null,
   "metadata": {},
   "outputs": [],
   "source": [
    "model.save(model_fp)"
   ]
  },
  {
   "cell_type": "code",
   "execution_count": null,
   "metadata": {},
   "outputs": [],
   "source": [
    "model = models.load_model(model_fp)"
   ]
  },
  {
   "cell_type": "code",
   "execution_count": null,
   "metadata": {
    "tags": []
   },
   "outputs": [],
   "source": [
    "print(\"----------TRAIN----------\\n\")\n",
    "predict_train = []\n",
    "y_train_values = []\n",
    "train_df = pd.read_csv(train_fp)\n",
    "for i in range(len(train_df)):\n",
    "    sample_df = train_df.iloc[i]\n",
    "    sample = createSample(sample_df[1:])\n",
    "    pred = model.predict(sample)\n",
    "    predict_train.append(np.argmax(pred[0]))\n",
    "    y_train_values.append(sample_df[0])\n",
    "print(confusion_matrix(y_train_values,predict_train))\n",
    "print(classification_report(y_train_values,predict_train))\n",
    "print(\"----------TEST----------\\n\")\n",
    "predict_test = []\n",
    "y_test_values = []\n",
    "test_df = pd.read_csv(test_fp)\n",
    "for i in range(len(test_df)):\n",
    "    sample_df = train_df.iloc[i]\n",
    "    sample = createSample(sample_df[1:])\n",
    "    pred = model.predict(sample)\n",
    "    predict_test.append(np.argmax(pred[0]))\n",
    "    y_test_values.append(sample_df[0])\n",
    "print(confusion_matrix(y_test_values,predict_test))\n",
    "print(classification_report(y_test_values,predict_test))"
   ]
  },
  {
   "cell_type": "code",
   "execution_count": null,
   "metadata": {},
   "outputs": [],
   "source": []
  }
 ],
 "metadata": {
  "kernelspec": {
   "display_name": "Python 3",
   "language": "python",
   "name": "python3"
  },
  "language_info": {
   "codemirror_mode": {
    "name": "ipython",
    "version": 3
   },
   "file_extension": ".py",
   "mimetype": "text/x-python",
   "name": "python",
   "nbconvert_exporter": "python",
   "pygments_lexer": "ipython3",
   "version": "3.8.3-final"
  }
 },
 "nbformat": 4,
 "nbformat_minor": 4
}